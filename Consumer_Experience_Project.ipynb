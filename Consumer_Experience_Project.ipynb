{
 "cells": [
  {
   "cell_type": "markdown",
   "id": "9f96f23e",
   "metadata": {},
   "source": [
    "### Consumer Experience Project"
   ]
  },
  {
   "cell_type": "code",
   "execution_count": null,
   "id": "3ab71eff",
   "metadata": {},
   "outputs": [],
   "source": []
  },
  {
   "cell_type": "code",
   "execution_count": 349,
   "id": "c2cef6ef",
   "metadata": {},
   "outputs": [],
   "source": [
    "#Importing Libraries\n",
    "import pandas as pd\n",
    "import numpy as np\n",
    "import nltk\n",
    "from nltk.corpus import stopwords\n",
    "import string\n",
    "import re\n",
    "from sklearn.preprocessing import LabelEncoder\n",
    "from sklearn.model_selection import train_test_split\n",
    "from sklearn.feature_extraction.text import CountVectorizer\n",
    "from sklearn.naive_bayes import GaussianNB\n",
    "from sklearn import metrics\n",
    "from sklearn.tree import DecisionTreeClassifier\n",
    "from sklearn.ensemble import RandomForestClassifier\n",
    "from sklearn.svm import SVC\n",
    "from sklearn.feature_extraction.text import TfidfVectorizer"
   ]
  },
  {
   "cell_type": "code",
   "execution_count": 229,
   "id": "9024ea85",
   "metadata": {},
   "outputs": [],
   "source": [
    "#Importing dataset\n",
    "df = pd.read_csv(\"IMDB Dataset.csv\")\n",
    "df = df.iloc[0:1000]"
   ]
  },
  {
   "cell_type": "code",
   "execution_count": 230,
   "id": "a118e597",
   "metadata": {},
   "outputs": [
    {
     "data": {
      "text/html": [
       "<div>\n",
       "<style scoped>\n",
       "    .dataframe tbody tr th:only-of-type {\n",
       "        vertical-align: middle;\n",
       "    }\n",
       "\n",
       "    .dataframe tbody tr th {\n",
       "        vertical-align: top;\n",
       "    }\n",
       "\n",
       "    .dataframe thead th {\n",
       "        text-align: right;\n",
       "    }\n",
       "</style>\n",
       "<table border=\"1\" class=\"dataframe\">\n",
       "  <thead>\n",
       "    <tr style=\"text-align: right;\">\n",
       "      <th></th>\n",
       "      <th>review</th>\n",
       "      <th>sentiment</th>\n",
       "    </tr>\n",
       "  </thead>\n",
       "  <tbody>\n",
       "    <tr>\n",
       "      <th>0</th>\n",
       "      <td>One of the other reviewers has mentioned that ...</td>\n",
       "      <td>positive</td>\n",
       "    </tr>\n",
       "    <tr>\n",
       "      <th>1</th>\n",
       "      <td>A wonderful little production. &lt;br /&gt;&lt;br /&gt;The...</td>\n",
       "      <td>positive</td>\n",
       "    </tr>\n",
       "    <tr>\n",
       "      <th>2</th>\n",
       "      <td>I thought this was a wonderful way to spend ti...</td>\n",
       "      <td>positive</td>\n",
       "    </tr>\n",
       "    <tr>\n",
       "      <th>3</th>\n",
       "      <td>Basically there's a family where a little boy ...</td>\n",
       "      <td>negative</td>\n",
       "    </tr>\n",
       "    <tr>\n",
       "      <th>4</th>\n",
       "      <td>Petter Mattei's \"Love in the Time of Money\" is...</td>\n",
       "      <td>positive</td>\n",
       "    </tr>\n",
       "    <tr>\n",
       "      <th>5</th>\n",
       "      <td>Probably my all-time favorite movie, a story o...</td>\n",
       "      <td>positive</td>\n",
       "    </tr>\n",
       "    <tr>\n",
       "      <th>6</th>\n",
       "      <td>I sure would like to see a resurrection of a u...</td>\n",
       "      <td>positive</td>\n",
       "    </tr>\n",
       "    <tr>\n",
       "      <th>7</th>\n",
       "      <td>This show was an amazing, fresh &amp; innovative i...</td>\n",
       "      <td>negative</td>\n",
       "    </tr>\n",
       "    <tr>\n",
       "      <th>8</th>\n",
       "      <td>Encouraged by the positive comments about this...</td>\n",
       "      <td>negative</td>\n",
       "    </tr>\n",
       "    <tr>\n",
       "      <th>9</th>\n",
       "      <td>If you like original gut wrenching laughter yo...</td>\n",
       "      <td>positive</td>\n",
       "    </tr>\n",
       "  </tbody>\n",
       "</table>\n",
       "</div>"
      ],
      "text/plain": [
       "                                              review sentiment\n",
       "0  One of the other reviewers has mentioned that ...  positive\n",
       "1  A wonderful little production. <br /><br />The...  positive\n",
       "2  I thought this was a wonderful way to spend ti...  positive\n",
       "3  Basically there's a family where a little boy ...  negative\n",
       "4  Petter Mattei's \"Love in the Time of Money\" is...  positive\n",
       "5  Probably my all-time favorite movie, a story o...  positive\n",
       "6  I sure would like to see a resurrection of a u...  positive\n",
       "7  This show was an amazing, fresh & innovative i...  negative\n",
       "8  Encouraged by the positive comments about this...  negative\n",
       "9  If you like original gut wrenching laughter yo...  positive"
      ]
     },
     "execution_count": 230,
     "metadata": {},
     "output_type": "execute_result"
    }
   ],
   "source": [
    "#checking the 10 rows from the dataset\n",
    "df.head(10)"
   ]
  },
  {
   "cell_type": "code",
   "execution_count": 231,
   "id": "f91fb9d3",
   "metadata": {},
   "outputs": [
    {
     "data": {
      "text/plain": [
       "(1000, 2)"
      ]
     },
     "execution_count": 231,
     "metadata": {},
     "output_type": "execute_result"
    }
   ],
   "source": [
    "df.shape"
   ]
  },
  {
   "cell_type": "markdown",
   "id": "4db1a7d2",
   "metadata": {},
   "source": [
    "#### Text PreProcessing"
   ]
  },
  {
   "cell_type": "code",
   "execution_count": 261,
   "id": "57f27048",
   "metadata": {},
   "outputs": [],
   "source": [
    "#Lowercasing Text\n",
    "df['review'] = df['review'].str.lower()"
   ]
  },
  {
   "cell_type": "code",
   "execution_count": 262,
   "id": "fd34153d",
   "metadata": {},
   "outputs": [
    {
     "name": "stderr",
     "output_type": "stream",
     "text": [
      "[nltk_data] Downloading package stopwords to\n",
      "[nltk_data]     C:\\Users\\admin\\AppData\\Roaming\\nltk_data...\n",
      "[nltk_data]   Package stopwords is already up-to-date!\n"
     ]
    },
    {
     "data": {
      "text/plain": [
       "True"
      ]
     },
     "execution_count": 262,
     "metadata": {},
     "output_type": "execute_result"
    }
   ],
   "source": [
    "#Removing stop words\n",
    "nltk.download('stopwords')"
   ]
  },
  {
   "cell_type": "code",
   "execution_count": 263,
   "id": "aa5360be",
   "metadata": {},
   "outputs": [],
   "source": [
    "#Storing English stopwords\n",
    "stop_words = stopwords.words('english')"
   ]
  },
  {
   "cell_type": "code",
   "execution_count": 264,
   "id": "d3bf6653",
   "metadata": {},
   "outputs": [],
   "source": [
    "df['review'] = df['review'].apply(lambda x: ' '.join([word for word in x.split() if word not in (stop_words)]))"
   ]
  },
  {
   "cell_type": "code",
   "execution_count": 265,
   "id": "9c838696",
   "metadata": {},
   "outputs": [
    {
     "data": {
      "text/plain": [
       "'one reviewers mentioned watching 1 oz episode hooked right exactly happened mebr br first thing struck oz brutality unflinching scenes violence set right word go trust show faint hearted timid show pulls punches regards drugs sex violence hardcore classic use wordbr br called oz nickname given oswald maximum security state penitentary focuses mainly emerald city experimental section prison cells glass fronts face inwards privacy high agenda em city home manyaryans muslims gangstas latinos christians italians irish moreso scuffles death stares dodgy dealings shady agreements never far awaybr br would say main appeal show due fact goes shows dare forget pretty pictures painted mainstream audiences forget charm forget romanceoz mess around first episode ever saw struck nasty surreal say ready watched developed taste oz got accustomed high levels graphic violence violence injustice crooked guards wholl sold nickel inmates wholl kill order get away well mannered middle class inmates turned prison bitches due lack street skills prison experience watching oz may become comfortable uncomfortable viewingthats get touch darker side'"
      ]
     },
     "execution_count": 265,
     "metadata": {},
     "output_type": "execute_result"
    }
   ],
   "source": [
    "df['review'][0]"
   ]
  },
  {
   "cell_type": "code",
   "execution_count": 286,
   "id": "752e49b7",
   "metadata": {},
   "outputs": [],
   "source": [
    "#remove duplicates\n",
    "df.drop_duplicates(inplace=True)"
   ]
  },
  {
   "cell_type": "code",
   "execution_count": 287,
   "id": "b34a87b0",
   "metadata": {},
   "outputs": [
    {
     "data": {
      "text/plain": [
       "(1000, 2)"
      ]
     },
     "execution_count": 287,
     "metadata": {},
     "output_type": "execute_result"
    }
   ],
   "source": [
    "df.shape"
   ]
  },
  {
   "cell_type": "code",
   "execution_count": 268,
   "id": "b09146b9",
   "metadata": {},
   "outputs": [],
   "source": [
    "#Remove Punctuations Marks\n",
    "df['review'] = df['review'].replace('<.*?>\"\",', \" \")"
   ]
  },
  {
   "cell_type": "code",
   "execution_count": 269,
   "id": "a9949234",
   "metadata": {},
   "outputs": [
    {
     "data": {
      "text/plain": [
       "'wonderful little production br br filming technique unassuming oldtimebbc fashion gives comforting sometimes discomforting sense realism entire piece br br actors extremely well chosen michael sheen got polari voices pat truly see seamless editing guided references williams diary entries well worth watching terrificly written performed piece masterful production one great masters comedy life br br realism really comes home little things fantasy guard rather use traditional dream techniques remains solid disappears plays knowledge senses particularly scenes concerning orton halliwell sets particularly flat halliwells murals decorating every surface terribly well done'"
      ]
     },
     "execution_count": 269,
     "metadata": {},
     "output_type": "execute_result"
    }
   ],
   "source": [
    "df['review'][1]"
   ]
  },
  {
   "cell_type": "code",
   "execution_count": 270,
   "id": "5cd17ac0",
   "metadata": {},
   "outputs": [],
   "source": [
    "#removing punctuation marks with a function\n",
    "def remove_punctuation(input_text):\n",
    "    translator = str.maketrans('','',string.punctuation)\n",
    "    return input_text.translate(translator)"
   ]
  },
  {
   "cell_type": "code",
   "execution_count": 271,
   "id": "384f376e",
   "metadata": {},
   "outputs": [],
   "source": [
    "df['review'] = df['review'].apply(remove_punctuation)"
   ]
  },
  {
   "cell_type": "code",
   "execution_count": 272,
   "id": "6a626397",
   "metadata": {},
   "outputs": [
    {
     "data": {
      "text/plain": [
       "'wonderful little production br br filming technique unassuming oldtimebbc fashion gives comforting sometimes discomforting sense realism entire piece br br actors extremely well chosen michael sheen got polari voices pat truly see seamless editing guided references williams diary entries well worth watching terrificly written performed piece masterful production one great masters comedy life br br realism really comes home little things fantasy guard rather use traditional dream techniques remains solid disappears plays knowledge senses particularly scenes concerning orton halliwell sets particularly flat halliwells murals decorating every surface terribly well done'"
      ]
     },
     "execution_count": 272,
     "metadata": {},
     "output_type": "execute_result"
    }
   ],
   "source": [
    "df['review'][1]"
   ]
  },
  {
   "cell_type": "code",
   "execution_count": 273,
   "id": "52547bcd",
   "metadata": {},
   "outputs": [],
   "source": [
    "#Removing html tags with a function and using regex\n",
    "CLEANR = re.compile('<.*?>|&([a-z0-9]+|#[0-9]{1,6}|#x[0-9a-f]{1,6});')"
   ]
  },
  {
   "cell_type": "code",
   "execution_count": 274,
   "id": "5827567d",
   "metadata": {},
   "outputs": [],
   "source": [
    "def cleanhtml(raw_html):\n",
    "  cleantext = re.sub(CLEANR, '', raw_html)\n",
    "  return cleantext"
   ]
  },
  {
   "cell_type": "code",
   "execution_count": 275,
   "id": "18bece87",
   "metadata": {},
   "outputs": [],
   "source": [
    "df['review'] = df['review'].apply(cleanhtml)"
   ]
  },
  {
   "cell_type": "code",
   "execution_count": 276,
   "id": "e1c2e53b",
   "metadata": {},
   "outputs": [
    {
     "data": {
      "text/plain": [
       "'wonderful little production br br filming technique unassuming oldtimebbc fashion gives comforting sometimes discomforting sense realism entire piece br br actors extremely well chosen michael sheen got polari voices pat truly see seamless editing guided references williams diary entries well worth watching terrificly written performed piece masterful production one great masters comedy life br br realism really comes home little things fantasy guard rather use traditional dream techniques remains solid disappears plays knowledge senses particularly scenes concerning orton halliwell sets particularly flat halliwells murals decorating every surface terribly well done'"
      ]
     },
     "execution_count": 276,
     "metadata": {},
     "output_type": "execute_result"
    }
   ],
   "source": [
    "df['review'][1]"
   ]
  },
  {
   "cell_type": "code",
   "execution_count": 288,
   "id": "432b6a88",
   "metadata": {},
   "outputs": [],
   "source": [
    "pattern = re.compile('<.*?>')"
   ]
  },
  {
   "cell_type": "code",
   "execution_count": 289,
   "id": "45fbc831",
   "metadata": {},
   "outputs": [],
   "source": [
    "def clean_html(text):\n",
    "    clean_text = re.sub(pattern,\"\",text)\n",
    "    return clean_text"
   ]
  },
  {
   "cell_type": "code",
   "execution_count": 291,
   "id": "5c0dc1de",
   "metadata": {},
   "outputs": [],
   "source": [
    "df['review'] = df['review'].apply(clean_html)"
   ]
  },
  {
   "cell_type": "code",
   "execution_count": 293,
   "id": "ccc403db",
   "metadata": {},
   "outputs": [],
   "source": [
    "#Splitting dataframe into X and Y frame\n",
    "X = df.iloc[:,0:1]\n",
    "y = df['sentiment']"
   ]
  },
  {
   "cell_type": "code",
   "execution_count": 294,
   "id": "f6cbd141",
   "metadata": {},
   "outputs": [],
   "source": [
    "#Applying Label Encoder on y set\n",
    "encoder = LabelEncoder()"
   ]
  },
  {
   "cell_type": "code",
   "execution_count": 295,
   "id": "6351f900",
   "metadata": {},
   "outputs": [],
   "source": [
    "y = encoder.fit_transform(y)"
   ]
  },
  {
   "cell_type": "code",
   "execution_count": 146,
   "id": "a93188d1",
   "metadata": {},
   "outputs": [],
   "source": [
    "#splitting the dataset in Train and Test Sets\n",
    "#import Train Test Split from Sklearn Preprocessing"
   ]
  },
  {
   "cell_type": "code",
   "execution_count": 296,
   "id": "3c26ebfc",
   "metadata": {},
   "outputs": [],
   "source": [
    "X_train,X_test,y_train,y_test = train_test_split(X,y,test_size=0.2,random_state=1)"
   ]
  },
  {
   "cell_type": "code",
   "execution_count": 297,
   "id": "e3870ead",
   "metadata": {},
   "outputs": [
    {
     "name": "stdout",
     "output_type": "stream",
     "text": [
      "(800, 1) (200, 1) (800,) (200,)\n"
     ]
    }
   ],
   "source": [
    "print(X_train.shape,X_test.shape,y_train.shape,y_test.shape)"
   ]
  },
  {
   "cell_type": "code",
   "execution_count": 298,
   "id": "0e16b854",
   "metadata": {},
   "outputs": [],
   "source": [
    "#Applying BagofWords/Count_Vectorizer on X_train and X_test\n",
    "cv = CountVectorizer()"
   ]
  },
  {
   "cell_type": "code",
   "execution_count": 299,
   "id": "14bfdaea",
   "metadata": {},
   "outputs": [],
   "source": [
    "X_train_cv = cv.fit_transform(X_train['review']).toarray()\n",
    "X_test_cv = cv.transform(X_test['review']).toarray()"
   ]
  },
  {
   "cell_type": "code",
   "execution_count": 152,
   "id": "40a639a7",
   "metadata": {},
   "outputs": [],
   "source": [
    "#Applying Classifier Models and checking accuracy for all models for BagOfWords"
   ]
  },
  {
   "cell_type": "code",
   "execution_count": 338,
   "id": "222593f4",
   "metadata": {},
   "outputs": [],
   "source": [
    "def all_models(X_train,X_test,y_train,y_test):\n",
    "\n",
    "    GNB = GaussianNB()\n",
    "    y_pred_GNB = GNB.fit(X_train,y_train).predict(X_test)\n",
    "    accuracy_GNB = metrics.accuracy_score(y_pred_GNB,y_test)\n",
    "    print(f\"Accuracy Score for Naive Bayes is : {accuracy_GNB}\")\n",
    "\n",
    "    CLF = DecisionTreeClassifier()\n",
    "    y_pred_CLF = CLF.fit(X_train,y_train).predict(X_test)\n",
    "    accuracy_CLF = metrics.accuracy_score(y_pred_CLF,y_test)\n",
    "    print(f\"Accuracy Score for DecisionTreeClassifier is : {accuracy_CLF}\")\n",
    "    \n",
    "    RFC = RandomForestClassifier()\n",
    "    y_pred_RFC = RFC.fit(X_train,y_train).predict(X_test)\n",
    "    accuracy_RFC = metrics.accuracy_score(y_pred_RFC,y_test)\n",
    "    print(f\"Accuracy Score for RandomForestClassifier is : {accuracy_RFC}\")\n",
    "    \n",
    "    SupV = SVC()\n",
    "    y_pred_SupV = SupV.fit(X_train,y_train).predict(X_test)\n",
    "    accuracy_SupV = metrics.accuracy_score(y_pred_SupV,y_test)\n",
    "    print(f\"Accuracy Score for SupportVectorClassifier is : {accuracy_SupV}\")\n",
    "    "
   ]
  },
  {
   "cell_type": "code",
   "execution_count": 339,
   "id": "99828e17",
   "metadata": {},
   "outputs": [
    {
     "name": "stdout",
     "output_type": "stream",
     "text": [
      "Accuracy Score for Naive Bayes is : 0.54\n",
      "Accuracy Score for DecisionTreeClassifier is : 0.66\n",
      "Accuracy Score for RandomForestClassifier is : 0.835\n",
      "Accuracy Score for SupportVectorClassifier is : 0.78\n"
     ]
    }
   ],
   "source": [
    "all_models(X_train_cv,X_test_cv,y_train,y_test)"
   ]
  },
  {
   "cell_type": "code",
   "execution_count": 340,
   "id": "80b9c4ba",
   "metadata": {},
   "outputs": [],
   "source": [
    "#Applying BiGrams\n",
    "Bi_grams = CountVectorizer(ngram_range=(1,2))"
   ]
  },
  {
   "cell_type": "code",
   "execution_count": 341,
   "id": "1cef5bff",
   "metadata": {},
   "outputs": [],
   "source": [
    "X_train_bigrams = Bi_grams.fit_transform(X_train['review']).toarray()\n",
    "X_test_bigrams = Bi_grams.transform(X_test['review']).toarray()"
   ]
  },
  {
   "cell_type": "code",
   "execution_count": 342,
   "id": "7ec21883",
   "metadata": {},
   "outputs": [
    {
     "name": "stdout",
     "output_type": "stream",
     "text": [
      "Accuracy Score for Naive Bayes is : 0.59\n",
      "Accuracy Score for DecisionTreeClassifier is : 0.7\n",
      "Accuracy Score for RandomForestClassifier is : 0.795\n",
      "Accuracy Score for SupportVectorClassifier is : 0.74\n"
     ]
    }
   ],
   "source": [
    "#applying all models to Bigrams text vectorization\n",
    "all_models(X_train_bigrams,X_test_bigrams,y_train,y_test)"
   ]
  },
  {
   "cell_type": "code",
   "execution_count": 343,
   "id": "9d17098c",
   "metadata": {},
   "outputs": [],
   "source": [
    "#Applying TriGrams\n",
    "Tri_grams = CountVectorizer(ngram_range=(1,3))"
   ]
  },
  {
   "cell_type": "code",
   "execution_count": 345,
   "id": "d08fafcc",
   "metadata": {},
   "outputs": [],
   "source": [
    "X_train_trigrams = Tri_grams.fit_transform(X_train['review']).toarray()\n",
    "X_test_trigrams = Tri_grams.transform(X_test['review']).toarray()"
   ]
  },
  {
   "cell_type": "code",
   "execution_count": 346,
   "id": "c934beac",
   "metadata": {},
   "outputs": [
    {
     "name": "stdout",
     "output_type": "stream",
     "text": [
      "Accuracy Score for Naive Bayes is : 0.585\n",
      "Accuracy Score for DecisionTreeClassifier is : 0.67\n",
      "Accuracy Score for RandomForestClassifier is : 0.75\n",
      "Accuracy Score for SupportVectorClassifier is : 0.715\n"
     ]
    }
   ],
   "source": [
    "#applying all models to trigrams text vectorization\n",
    "all_models(X_train_trigrams,X_test_trigrams,y_train,y_test)"
   ]
  },
  {
   "cell_type": "code",
   "execution_count": 350,
   "id": "d9cde16d",
   "metadata": {},
   "outputs": [],
   "source": [
    "#Applying TfIDf\n",
    "tfidf = TfidfVectorizer()"
   ]
  },
  {
   "cell_type": "code",
   "execution_count": 353,
   "id": "25b774e3",
   "metadata": {},
   "outputs": [],
   "source": [
    "X_train_tfidf = tfidf.fit_transform(X_train['review']).toarray()\n",
    "X_test_tfidf = tfidf.transform(X_test['review']).toarray()"
   ]
  },
  {
   "cell_type": "code",
   "execution_count": 354,
   "id": "911a7388",
   "metadata": {},
   "outputs": [
    {
     "name": "stdout",
     "output_type": "stream",
     "text": [
      "Accuracy Score for Naive Bayes is : 0.52\n",
      "Accuracy Score for DecisionTreeClassifier is : 0.71\n",
      "Accuracy Score for RandomForestClassifier is : 0.79\n",
      "Accuracy Score for SupportVectorClassifier is : 0.805\n"
     ]
    }
   ],
   "source": [
    "#applying all models to tfidf text vectorization\n",
    "all_models(X_train_tfidf,X_test_tfidf,y_train,y_test)"
   ]
  },
  {
   "cell_type": "markdown",
   "id": "8b927b72",
   "metadata": {},
   "source": [
    "# "
   ]
  },
  {
   "cell_type": "raw",
   "id": "460bb19d",
   "metadata": {},
   "source": [
    "From the above application of Text Vectorization and Classifier Models we have found out that Count Vectorizer with RandomForest Classifier gives us the best accuracy score. Hence we will use the same in our Python Project"
   ]
  },
  {
   "cell_type": "raw",
   "id": "5df26668",
   "metadata": {},
   "source": []
  }
 ],
 "metadata": {
  "kernelspec": {
   "display_name": "Python 3 (ipykernel)",
   "language": "python",
   "name": "python3"
  },
  "language_info": {
   "codemirror_mode": {
    "name": "ipython",
    "version": 3
   },
   "file_extension": ".py",
   "mimetype": "text/x-python",
   "name": "python",
   "nbconvert_exporter": "python",
   "pygments_lexer": "ipython3",
   "version": "3.10.9"
  }
 },
 "nbformat": 4,
 "nbformat_minor": 5
}
